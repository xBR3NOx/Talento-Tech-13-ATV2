import seaborn as sns
import pandas as pd
import matplotlib.pyplot as plt

# Criando um DataFrame fictício de vendas
dados_vendas = {
    "Dia": ["Seg", "Ter", "Qua", "Qui", "Sex", "Sáb", "Dom"],
    "Total de Vendas": [120, 150, 180, 130, 200, 220, 250],
    "Número de Clientes": [100, 130, 160, 110, 180, 190, 210],
    "Lucro": [500, 700, 850, 600, 900, 1000, 1200]
}

df_vendas = pd.DataFrame(dados_vendas)

# Criando um gráfico de barras - Total de Vendas por Dia
plt.figure(figsize=(8, 5))
sns.barplot(x="Dia", y="Total de Vendas", data=df_vendas, palette="viridis")
plt.title("Total de Vendas por Dia")
plt.xlabel("Dia da Semana")
plt.ylabel("Total de Vendas")
plt.show()

# Criando um gráfico de dispersão - Número de Clientes x Total de Vendas
plt.figure(figsize=(8, 5))
sns.scatterplot(x="Número de Clientes", y="Total de Vendas", data=df_vendas, color="r", s=100)
plt.title("Relação entre Número de Clientes e Total de Vendas")
plt.xlabel("Número de Clientes")
plt.ylabel("Total de Vendas")
plt.show()

# Criando um heatmap - Correlação entre Vendas, Clientes e Lucro
plt.figure(figsize=(6, 4))
sns.heatmap(df_vendas.corr(), annot=True, cmap="coolwarm", fmt=".2f")
plt.title("Matriz de Correlação das Variáveis de Vendas")
plt.show()
