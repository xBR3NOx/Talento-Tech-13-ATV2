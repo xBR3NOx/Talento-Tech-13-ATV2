{
 "cells": [
  {
   "cell_type": "code",
   "execution_count": 1,
   "metadata": {},
   "outputs": [
    {
     "name": "stdout",
     "output_type": "stream",
     "text": [
      "         Data          Cidade  Temperatura Máxima (°C)  \\\n",
      "0  15/01/2025       São Paulo                     30.5   \n",
      "1  15/01/2025  Rio de Janeiro                     35.0   \n",
      "2  15/01/2025        Curitiba                     24.0   \n",
      "3  15/01/2025    Porto Alegre                     28.0   \n",
      "4  15/01/2025        Salvador                     31.0   \n",
      "\n",
      "   Temperatura Mínima (°C)  Amplitude Térmica  Precipitação (mm)  \\\n",
      "0                     22.0                8.5          12.000000   \n",
      "1                     25.0               10.0          11.666667   \n",
      "2                     18.0                6.0           8.000000   \n",
      "3                     20.0                8.0          15.000000   \n",
      "4                     24.5                6.5          11.666667   \n",
      "\n",
      "   Umidade Relativa (%)  \n",
      "0                  78.0  \n",
      "1                  70.0  \n",
      "2                  79.0  \n",
      "3                  82.0  \n",
      "4                  80.0  \n",
      "\n",
      "DataFrame filtrado (Temperatura Máxima acima de 30°C):\n",
      "         Data          Cidade  Temperatura Máxima (°C)  \\\n",
      "0  15/01/2025       São Paulo                     30.5   \n",
      "1  15/01/2025  Rio de Janeiro                     35.0   \n",
      "4  15/01/2025        Salvador                     31.0   \n",
      "\n",
      "   Temperatura Mínima (°C)  Precipitação (mm)  Umidade Relativa (%)  \\\n",
      "0                     22.0          12.000000                  78.0   \n",
      "1                     25.0          11.666667                  70.0   \n",
      "4                     24.5          11.666667                  80.0   \n",
      "\n",
      "   Amplitude Térmica  \n",
      "0                8.5  \n",
      "1               10.0  \n",
      "4                6.5  \n"
     ]
    },
    {
     "name": "stderr",
     "output_type": "stream",
     "text": [
      "C:\\Users\\Breno Cassiano\\AppData\\Local\\Temp\\ipykernel_1500\\1052215750.py:18: FutureWarning: A value is trying to be set on a copy of a DataFrame or Series through chained assignment using an inplace method.\n",
      "The behavior will change in pandas 3.0. This inplace method will never work because the intermediate object on which we are setting values always behaves as a copy.\n",
      "\n",
      "For example, when doing 'df[col].method(value, inplace=True)', try using 'df.method({col: value}, inplace=True)' or df[col] = df[col].method(value) instead, to perform the operation inplace on the original object.\n",
      "\n",
      "\n",
      "  df[\"Precipitação (mm)\"].fillna(media_precipitacao, inplace=True)\n",
      "C:\\Users\\Breno Cassiano\\AppData\\Local\\Temp\\ipykernel_1500\\1052215750.py:22: FutureWarning: A value is trying to be set on a copy of a DataFrame or Series through chained assignment using an inplace method.\n",
      "The behavior will change in pandas 3.0. This inplace method will never work because the intermediate object on which we are setting values always behaves as a copy.\n",
      "\n",
      "For example, when doing 'df[col].method(value, inplace=True)', try using 'df.method({col: value}, inplace=True)' or df[col] = df[col].method(value) instead, to perform the operation inplace on the original object.\n",
      "\n",
      "\n",
      "  df[\"Umidade Relativa (%)\"].fillna(mediana_umidade, inplace=True)\n"
     ]
    }
   ],
   "source": [
    "import pandas as pd\n",
    "import numpy as np\n",
    "\n",
    "# Criando o DataFrame com os dados fornecidos\n",
    "dados = {\n",
    "    \"Data\": [\"15/01/2025\"] * 5,\n",
    "    \"Cidade\": [\"São Paulo\", \"Rio de Janeiro\", \"Curitiba\", \"Porto Alegre\", \"Salvador\"],\n",
    "    \"Temperatura Máxima (°C)\": [30.5, 35.0, 24.0, 28.0, 31.0],\n",
    "    \"Temperatura Mínima (°C)\": [22.0, 25.0, 18.0, 20.0, 24.5],\n",
    "    \"Precipitação (mm)\": [12.0, np.nan, 8.0, 15.0, np.nan],\n",
    "    \"Umidade Relativa (%)\": [78, 70, np.nan, 82, 80]\n",
    "}\n",
    "\n",
    "df = pd.DataFrame(dados)\n",
    "\n",
    "# Substituir valores ausentes na coluna Precipitação pela média da Precipitação\n",
    "media_precipitacao = df[\"Precipitação (mm)\"].mean()\n",
    "df[\"Precipitação (mm)\"].fillna(media_precipitacao, inplace=True)\n",
    "\n",
    "# Substituir valores ausentes na coluna Umidade Relativa pela mediana da Umidade Relativa\n",
    "mediana_umidade = df[\"Umidade Relativa (%)\"].median()\n",
    "df[\"Umidade Relativa (%)\"].fillna(mediana_umidade, inplace=True)\n",
    "\n",
    "# Adicionar coluna Amplitude Térmica\n",
    "df[\"Amplitude Térmica\"] = df[\"Temperatura Máxima (°C)\"] - df[\"Temperatura Mínima (°C)\"]\n",
    "\n",
    "# Criar novo DataFrame apenas com cidades onde a Temperatura Máxima é maior que 30°C\n",
    "df_filtrado = df[df[\"Temperatura Máxima (°C)\"] > 30]\n",
    "\n",
    "# Reordenar as colunas\n",
    "df = df[[\"Data\", \"Cidade\", \"Temperatura Máxima (°C)\", \"Temperatura Mínima (°C)\", \"Amplitude Térmica\", \"Precipitação (mm)\", \"Umidade Relativa (%)\"]]\n",
    "\n",
    "# Exibir o DataFrame final\n",
    "print(df)\n",
    "print(\"\\nDataFrame filtrado (Temperatura Máxima acima de 30°C):\")\n",
    "print(df_filtrado)\n"
   ]
  }
 ],
 "metadata": {
  "kernelspec": {
   "display_name": "Python 3",
   "language": "python",
   "name": "python3"
  },
  "language_info": {
   "codemirror_mode": {
    "name": "ipython",
    "version": 3
   },
   "file_extension": ".py",
   "mimetype": "text/x-python",
   "name": "python",
   "nbconvert_exporter": "python",
   "pygments_lexer": "ipython3",
   "version": "3.13.2"
  }
 },
 "nbformat": 4,
 "nbformat_minor": 2
}
